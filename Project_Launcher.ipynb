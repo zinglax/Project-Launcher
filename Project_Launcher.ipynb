{
 "cells": [
  {
   "cell_type": "markdown",
   "metadata": {},
   "source": [
    "<h1><span style=\"font-size:35px; color:deeppink;\">➥</span> Project Launcher</h1>"
   ]
  },
  {
   "cell_type": "code",
   "execution_count": 2,
   "metadata": {
    "collapsed": true
   },
   "outputs": [],
   "source": [
    "import json, os, jinja2, shutil\n",
    "from distutils.dir_util import copy_tree\n",
    "import subprocess"
   ]
  },
  {
   "cell_type": "code",
   "execution_count": 7,
   "metadata": {
    "collapsed": false
   },
   "outputs": [
    {
     "data": {
      "text/plain": [
       "['/home/dylan/Desktop/GITHUBS/Project-Launcher/launcher/200x200.png']"
      ]
     },
     "execution_count": 7,
     "metadata": {},
     "output_type": "execute_result"
    }
   ],
   "source": [
    "\n",
    "working_directory = os.getcwd()\n",
    "stock_directory = os.path.join(working_directory, \"stock\")\n",
    "\n",
    "# Target Directory (Launching Folder)\n",
    "launcher_dir = os.path.join(working_directory, \"launcher\")\n",
    "\n",
    "\n",
    "template_vars = {\n",
    "    \"project_name\":\"testapp\",\n",
    "    \"terminal\":\"true\",\n",
    "    \"icon200x200\":os.path.join(launcher_dir, \"200x200.png\"),\n",
    "    \"launcher_script\":os.path.join(launcher_dir, \"launcher.sh\"),\n",
    "    \"desktop_file_path\":launcher_dir,\n",
    "    \"desktop_file\": \"testapp.desktop\",\n",
    "    \n",
    "}\n",
    "\n",
    "\n",
    "# Creates Launching Folder\n",
    "os.makedirs(launcher_dir, exist_ok=True)\n",
    "\n",
    "# Copy Stock to Launching Folder\n",
    "copy_tree(src=stock_directory, dst=launcher_dir)\n",
    "\n"
   ]
  },
  {
   "cell_type": "code",
   "execution_count": 8,
   "metadata": {
    "collapsed": false
   },
   "outputs": [
    {
     "ename": "SyntaxError",
     "evalue": "invalid syntax (<ipython-input-8-261fbffa6120>, line 21)",
     "output_type": "error",
     "traceback": [
      "\u001b[0;36m  File \u001b[0;32m\"<ipython-input-8-261fbffa6120>\"\u001b[0;36m, line \u001b[0;32m21\u001b[0m\n\u001b[0;31m    subprocess.call(['chmod 777 ' + ], shell=True)\u001b[0m\n\u001b[0m                                    ^\u001b[0m\n\u001b[0;31mSyntaxError\u001b[0m\u001b[0;31m:\u001b[0m invalid syntax\n"
     ]
    }
   ],
   "source": [
    "\n",
    "# Jinja Environment\n",
    "templateLoader = jinja2.FileSystemLoader([os.path.join(working_directory, \"templates\")])\n",
    "jinjaEnv = jinja2.Environment( loader=templateLoader )\n",
    "\n",
    "# Create project_launcher.desktop\n",
    "desktop_file = os.path.join(template_vars[\"desktop_file_path\"], template_vars[\"desktop_file\"])\n",
    "with open(desktop_file, \"w+\") as f:\n",
    "    f.write(jinjaEnv.get_template(\"project_launcher.desktop.jinja\").render(template_vars))\n",
    "\n",
    "# Create Makefile\n",
    "make_file = os.path.join(template_vars[\"desktop_file_path\"], \"Makefile\")\n",
    "with open(make_file, \"w+\") as f:\n",
    "    f.write(jinjaEnv.get_template(\"Makefile.jinja\").render(template_vars))\n",
    "\n",
    "# Create launcher.sh\n",
    "with open(template_vars[\"launcher_script\"], \"w+\") as f:\n",
    "    f.write(jinjaEnv.get_template(\"launcher.sh.jinja\").render(template_vars))\n",
    "\n",
    "# Make launcher.sh executable\n",
    "subprocess.call(['chmod 777 ' + template_vars[\"launcher_script\"]], shell=True)\n",
    "    "
   ]
  },
  {
   "cell_type": "code",
   "execution_count": 6,
   "metadata": {
    "collapsed": true
   },
   "outputs": [],
   "source": []
  },
  {
   "cell_type": "code",
   "execution_count": null,
   "metadata": {
    "collapsed": true
   },
   "outputs": [],
   "source": []
  }
 ],
 "metadata": {
  "kernelspec": {
   "display_name": "Python 3",
   "language": "python",
   "name": "python3"
  },
  "language_info": {
   "codemirror_mode": {
    "name": "ipython",
    "version": 3
   },
   "file_extension": ".py",
   "mimetype": "text/x-python",
   "name": "python",
   "nbconvert_exporter": "python",
   "pygments_lexer": "ipython3",
   "version": "3.5.2"
  }
 },
 "nbformat": 4,
 "nbformat_minor": 0
}
